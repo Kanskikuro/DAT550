{
  "cells": [
    {
      "cell_type": "markdown",
      "metadata": {
        "id": "czjcahcys1yO"
      },
      "source": [
        "# Assignment #2\n",
        "\n",
        "# In This assignment you are asked to read a data which include 48505 articles (Documents). Then fint the most similar documents using Locality Sensitive Hashing. Follow the lecture covering this topic step by step.\n",
        "\n",
        "## 1. Data is available in Json format and you need to read it. 'https://www.ux.uis.no/~vsetty/data/assignment2_aricles.json' (5 points)\n",
        "## 2. Shingle the documents (10 points)\n",
        "### Tips:\n",
        "* Use string package to cleanup the articles e.g, str.maketrans('', '', string.\n",
        "punctuation)\n",
        "* It is better to convert text to lower case that way you get fewer n-grams\n",
        "* apply ngrams(x.split(), n) using ngrams from nltk on the content + title for computing n-grams, for this data n = 2 is suffcient\n",
        "  * You can use n-gram at word level for this task\n",
        "  * try with different n-gram values \n",
        "  * You can use ngrams from nltk for this\n",
        "\n",
        "## 3. Convert n-grams into binary vector representation for each document. You can do some optimzations if the matrix is too big. (10 points)\n",
        "* For example,\n",
        "\n",
        "  * Select top 10000 most frequent n-grams.\n",
        "  * You may also try smaller values of n (like 2 or 3) which result in fewer n-grams.\n",
        "  * Finally, you can also try sparse matrix representation. Like csr_matrix from scipy.sparse. It works even with full vocabulary.\n",
        "    * Given a list of n-grams for each document, see how to builid a sparse matrix here https://docs.scipy.org/doc/scipy/reference/generated/scipy.sparse.csr_matrix.html\n",
        "\n",
        "## 4. We need hash function that maps integers 0, 1, . . . , k − 1 to bucket numbers 0 through k − 1. It might be impossible to avoid collisions but as long as the collions are too many it won't matter much. (10 points)\n",
        "* The simplest would be using the builtin hash() function, it can be for example, hash(rownumber) % Numberofbuckets\n",
        "* You can generate several of these hash functions by xoring a random integer (hash(rownumber)^randint) % Numberofbuckets\n",
        "* It can also be a as simple as (rownumber * randint) % Numberofbuckets\n",
        "\n",
        "## 5. Compute minhash following the faster algorithm from the lecture (10 points)\n",
        "## 6. Hash signature bands into buckets. Find a way to combine all the  signature values in a band and hash them into a number of buckets ususally very high. (10 points)\n",
        "* Easiest way is to add all the signature values in the bucket and use a similar hash function like before\n",
        "* You should use the same hash function for all bands. And all documents ending up in same bucket for at least one band are considered as candidate pairs.\n",
        "\n",
        "## 7. Tune parameters to make sure the threshold is appropriate. (10 points)\n",
        "* plot the probability of two similar items falling in same bucket for different threshold values\n",
        "\n",
        "## 8. Choose the best parameters and get nearest neighbors of each articles (20 points)\n",
        "* Jaccard Similarity\n",
        "* convert hash table into dictionary of article ids and its other articles that hashed in at least 1 same bucket\n",
        "\n",
        "## 9. Write the nearest neibhors of each document to submissions.csv (comma separated, first column is the current document followed by a list of nearest neighbors) file and get the score (10 points)\n",
        "\n",
        "## 10. Write a report + notebook + submission file in a zip file (5 points)"
      ]
    },
    {
      "cell_type": "code",
      "execution_count": 2,
      "metadata": {
        "id": "yjK4_fGbHYIA"
      },
      "outputs": [],
      "source": [
        "###############################--- Step 1 Reading data ---###############################\n",
        "import string\n",
        "import pandas as pd\n",
        "import numpy as np\n",
        "import json\n",
        "import nltk\n",
        "from nltk import ngrams\n",
        "import requests\n",
        "import json\n",
        "\n",
        "url = 'https://www.ux.uis.no/~vsetty/data/assignment2_aricles.json'\n",
        "response = requests.get(url)\n",
        "articles = json.loads(response.text)\n",
        "# Json format: article_id, Title, Content"
      ]
    },
    {
      "cell_type": "code",
      "execution_count": 3,
      "metadata": {
        "id": "iaAvfYIkJvYf"
      },
      "outputs": [],
      "source": [
        "###############################--- Step 2 Shingle ---###############################\n",
        "\n",
        "def clean_text(text): # Remove punctuation and convert to lower-case\n",
        "    translator = str.maketrans('', '', string.punctuation)\n",
        "    return text.translate(translator).lower()\n",
        "\n",
        "def get_document_ngrams(article):\n",
        "    n=2\n",
        "    combined_text = article.get('title', '') + \" \" + article.get('content', '')\n",
        "    cleaned = clean_text(combined_text)\n",
        "    return set(ngrams(cleaned.split(), n))\n",
        "\n",
        "documents_ngrams = [get_document_ngrams(article) for article in articles]"
      ]
    },
    {
      "cell_type": "code",
      "execution_count": 4,
      "metadata": {
        "id": "coy5Lxd6JcaI"
      },
      "outputs": [],
      "source": [
        "###############################---  step 3 ngrams -> binary vectors ---###############################\n",
        "from collections import Counter\n",
        "import numpy as np\n",
        "from scipy.sparse import csr_matrix\n",
        "\n",
        "def getFrequentNgrams(articles):\n",
        "  top_k = 10000\n",
        "  # Count frequencies across all documents\n",
        "  counter = Counter()\n",
        "  for doc in documents_ngrams:\n",
        "      counter.update(doc)\n",
        "  # Select the top_k n-grams\n",
        "  top_ngrams = [ngram for ngram, _ in counter.most_common(top_k)]\n",
        "  # Create a mapping to indices\n",
        "  ngram_to_idx = {ngram: idx for idx, ngram in enumerate(top_ngrams)}\n",
        "  return ngram_to_idx\n",
        "\n",
        "def getBinaryMatrix(docs):\n",
        "  ngram_to_idx = getFrequentNgrams(documents_ngrams)\n",
        "  num_docs = len(documents_ngrams)\n",
        "  num_features = len(ngram_to_idx)\n",
        "  \n",
        "  data, rows, cols = [], [], []\n",
        "\n",
        "  for doc_idx, ngrams_set in enumerate(documents_ngrams):\n",
        "      for ngram in ngrams_set:\n",
        "          if ngram in ngram_to_idx:\n",
        "              col = ngram_to_idx[ngram]\n",
        "              rows.append(doc_idx)\n",
        "              cols.append(col)\n",
        "              data.append(1)\n",
        "              \n",
        "  binary_matrix = csr_matrix((data, (rows, cols)), shape=(num_docs, num_features), dtype=np.int8)\n",
        "  return binary_matrix\n",
        "\n",
        "binary_matrix = getBinaryMatrix(documents_ngrams)\n"
      ]
    },
    {
      "cell_type": "code",
      "execution_count": 5,
      "metadata": {
        "id": "HX7R93sYMoM0"
      },
      "outputs": [],
      "source": [
        "###############################--- step 4 hash mapping ---###############################\n",
        "\n",
        "import random\n",
        "\n",
        "num_buckets = 500  \n",
        "\n",
        "def getHashFunctionValues(numrows, numhashfunctions):\n",
        "    \n",
        "    # Create parameters for hash functions (e.g., using a and b constants)\n",
        "    hash_params = [(random.randint(1, num_buckets), random.randint(0, num_buckets)) \n",
        "                   for _ in range(num_hash_functions)]\n",
        "    \n",
        "    # Build a matrix of shape (num_hash_functions, num_rows)\n",
        "    hash_values = np.zeros((num_hash_functions, num_rows), dtype=np.int32)\n",
        "    for i, (a, b) in enumerate(hash_params):\n",
        "        for row in range(num_rows):\n",
        "            # A simple hash: (rownumber * randint) % Numberofbuckets\n",
        "            hash_values[i, row] = (a * row + b) % num_buckets\n",
        "    return hash_values, hash_params\n",
        "\n",
        "num_rows = binary_matrix.shape[1]\n",
        "num_hash_functions = 100 \n",
        "hash_val_matrix, hash_params = getHashFunctionValues(num_rows, num_hash_functions)\n"
      ]
    },
    {
      "cell_type": "code",
      "execution_count": 6,
      "metadata": {
        "id": "trWgSifwNEQ2"
      },
      "outputs": [],
      "source": [
        "###############################--- step 5 Min-hashing ---###############################\n",
        "\n",
        "def getMinHashSignatureMatrix(binary_matrix, hash_val_matrix):\n",
        "    num_hash_functions, num_rows = hash_val_matrix.shape\n",
        "    num_docs = binary_matrix.shape[0]\n",
        "    \n",
        "    # Initialize the signature matrix with large numbers\n",
        "    signature_matrix = np.full((num_hash_functions, num_docs), np.inf)\n",
        "    \n",
        "    # Convert binary_matrix to a format that lets us iterate non-zero indices by row.\n",
        "    binary_matrix = binary_matrix.tocsc()  # Column-oriented representation is useful\n",
        "    \n",
        "    # Iterate over each row (n-gram) in the binary matrix\n",
        "    for row in range(num_rows):\n",
        "        # Find all documents where this n-gram appears\n",
        "        col_indices = binary_matrix[:, row].nonzero()[0]\n",
        "        if len(col_indices) == 0:\n",
        "            continue\n",
        "        # For each hash function, update the signature values for these docs\n",
        "        for i in range(num_hash_functions):\n",
        "            hash_val = hash_val_matrix[i, row]\n",
        "            # Update if current hash value is smaller\n",
        "            signature_matrix[i, col_indices] = np.minimum(signature_matrix[i, col_indices], hash_val)\n",
        "            \n",
        "    return signature_matrix\n",
        "\n",
        "signature_matrix = getMinHashSignatureMatrix(binary_matrix, hash_val_matrix)\n"
      ]
    },
    {
      "cell_type": "code",
      "execution_count": 7,
      "metadata": {
        "id": "BRC-FWUSSAON"
      },
      "outputs": [],
      "source": [
        "###############################--- step 6 LSH ---###############################\n",
        "\n",
        "from collections import defaultdict\n",
        "\n",
        "def getLSH(signature_matrix, num_bands, num_buckets):\n",
        "    num_hash_functions, num_docs = signature_matrix.shape\n",
        "    rows_per_band = num_hash_functions // num_bands\n",
        "    lsh_buckets = defaultdict(list)\n",
        "    \n",
        "    # For each band, hash the band vector for each document\n",
        "    for band in range(num_bands):\n",
        "        band_start = band * rows_per_band\n",
        "        band_end = band_start + rows_per_band\n",
        "        # For each document, get the band slice\n",
        "        for doc in range(num_docs):\n",
        "            band_slice = tuple(signature_matrix[band_start:band_end, doc])\n",
        "            # Combine band id and band slice to generate a unique hash value\n",
        "            bucket = hash((band, band_slice)) % num_buckets\n",
        "            lsh_buckets[(band, bucket)].append(doc)\n",
        "    return lsh_buckets\n",
        "num_bands = 10  # example parameter; adjust as needed\n",
        "lsh_buckets = getLSH(signature_matrix, num_bands, num_buckets)\n"
      ]
    },
    {
      "cell_type": "code",
      "execution_count": 8,
      "metadata": {
        "id": "MNmDBSVuSdvV"
      },
      "outputs": [
        {
          "data": {
            "image/png": "[encoded data removed]",
            "text/plain": [
              "<Figure size 800x500 with 1 Axes>"
            ]
          },
          "metadata": {},
          "output_type": "display_data"
        }
      ],
      "source": [
        "###############################--- step 7 Tuning Parameters ---###############################\n",
        "import matplotlib.pyplot as plt\n",
        "import numpy as np\n",
        "\n",
        "def plotProbability(s_values, b, r):\n",
        "    probabilities = [1 - (1 - s**r)**b for s in s_values]\n",
        "    plt.figure(figsize=(8, 5))\n",
        "    plt.plot(s_values, probabilities, marker='o')\n",
        "    plt.xlabel('Jaccard Similarity (s)')\n",
        "    plt.ylabel('Probability of Becoming a Candidate Pair')\n",
        "    plt.title(f'LSH Banding: b = {b}, r = {r}')\n",
        "    plt.grid(True)\n",
        "    plt.show()\n",
        "\n",
        "# Define a range of similarities and plot\n",
        "s_values = np.linspace(0, 1, 100)\n",
        "r = signature_matrix.shape[0] // num_bands\n",
        "plotProbability(s_values, num_bands, r)"
      ]
    },
    {
      "cell_type": "code",
      "execution_count": 9,
      "metadata": {
        "id": "nYqQg7BfVPuN"
      },
      "outputs": [],
      "source": [
        "###############################--- step 8 Jaccard Similarity  ---###############################\n",
        "\n",
        "import csv\n",
        "\n",
        "def getJaccardSimilarityScore(C1, C2):\n",
        "    intersection = sum(1 for x in C1 if x in C2)\n",
        "    union = len(C1) + len(C2) - intersection\n",
        "    return intersection / union if union > 0 else 0\n",
        "\n",
        "similarity_threshold = 0.8 "
      ]
    },
    {
      "cell_type": "code",
      "execution_count": null,
      "metadata": {
        "id": "6qzcoHoGVasE"
      },
      "outputs": [],
      "source": [
        "###############################--- step 9 write to csv ---###############################\n",
        "# convert hash table into dictionary of article ids and its other articles that hashed in at least 1 same bucket\n",
        "\n",
        "import pandas as pd\n",
        "\n",
        "submission_id = []\n",
        "submission_neighbors = []\n",
        "\n",
        "with open(\"candidates.csv\", \"r\") as f:\n",
        "    reader = csv.reader(f)\n",
        "    next(reader)  # Skip header\n",
        "\n",
        "    for doc1, doc2 in reader:\n",
        "        C1 = documents_ngrams[int(doc1)]\n",
        "        C2 = documents_ngrams[int(doc2)]\n",
        "\n",
        "        score = getJaccardSimilarityScore(C1, C2)\n",
        "        if score >= similarity_threshold:\n",
        "            submission_id.append(doc1)\n",
        "            submission_neighbors.append(doc2)\n",
        "\n",
        "# Save results\n",
        "submission_df = pd.DataFrame({\n",
        "    'article_id': submission_id,\n",
        "    'neighbor_id': submission_neighbors\n",
        "})\n",
        "submission_df.sort_values(by=['article_id'], inplace=True)\n",
        "submission_df.to_csv('submissions.csv', index=False)\n"
      ]
    },
    {
      "cell_type": "code",
      "execution_count": null,
      "metadata": {
        "id": "YkEBs1OOWbuZ"
      },
      "outputs": [],
      "source": [
        "# Remove the neighbors in same buckets but have similarity score < threshold \n",
        "import copy\n",
        "\n",
        "n_copy = copy.deepcopy(nearest_neighbors)\n",
        "submission_id = []\n",
        "submission_nid = []\n",
        "\n",
        "for article_id, neighbor_ids in n_copy.items():\n",
        "    for nid in neighbor_ids:\n",
        "        # Compute the Jaccard similarity between the two documents\n",
        "        score = getJaccardSimilarityScore(documents_ngrams[article_id], documents_ngrams[nid])\n",
        "        if score < s:\n",
        "            # If the similarity is below the threshold, skip adding this pair.\n",
        "            continue\n",
        "        else:\n",
        "            # Otherwise, add the article and its neighbor to the submission lists.\n",
        "            submission_id.append(article_id)\n",
        "            submission_nid.append(nid)"
      ]
    },
    {
      "cell_type": "code",
      "execution_count": null,
      "metadata": {
        "id": "0wivKramXf-1"
      },
      "outputs": [],
      "source": [
        "\n",
        "data = pd.DataFrame()\n",
        "data['article_id'] = submission_id\n",
        "data['neighbor_id'] = submission_nid\n",
        "data.sort_values(by=['article_id', 'neighbor_id'], inplace=True)"
      ]
    },
    {
      "cell_type": "code",
      "execution_count": null,
      "metadata": {
        "id": "GpqOKfR5Xlqz"
      },
      "outputs": [],
      "source": [
        "data.head(100)"
      ]
    }
  ],
  "metadata": {
    "colab": {
      "collapsed_sections": [],
      "name": "Copy of Untitled0.ipynb",
      "provenance": []
    },
    "kernelspec": {
      "display_name": ".venv",
      "language": "python",
      "name": "python3"
    },
    "language_info": {
      "codemirror_mode": {
        "name": "ipython",
        "version": 3
      },
      "file_extension": ".py",
      "mimetype": "text/x-python",
      "name": "python",
      "nbconvert_exporter": "python",
      "pygments_lexer": "ipython3",
      "version": "3.12.5"
    }
  },
  "nbformat": 4,
  "nbformat_minor": 0
}
